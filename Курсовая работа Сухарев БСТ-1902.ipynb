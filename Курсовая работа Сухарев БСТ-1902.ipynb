{
 "cells": [
  {
   "cell_type": "markdown",
   "metadata": {},
   "source": [
    "## Курсовая работа по дисциплине СиАОД"
   ]
  },
  {
   "cell_type": "markdown",
   "metadata": {},
   "source": [
    "### Выполнил студент руппы БСТ1902 Сухарев Владимир"
   ]
  },
  {
   "cell_type": "markdown",
   "metadata": {},
   "source": [
    "### Задача на строки 1\n",
    "Даны две строки: s1 и s2 с одинаковым размером, проверьте, может ли некоторая перестановка строки s1 “победить” некоторую перестановку строки s2 или наоборот.\n",
    "Строка x может “победить” строку y (обе имеют размер n), если x[i]> = y [i] (в алфавитном порядке) для всех i от 0 до n-1."
   ]
  },
  {
   "cell_type": "code",
   "execution_count": 1,
   "metadata": {},
   "outputs": [
    {
     "name": "stdout",
     "output_type": "stream",
     "text": [
      "True\n",
      "False\n"
     ]
    }
   ],
   "source": [
    "def pobeda(str1, str2):\n",
    "    sorted1 = ''.join(sorted(str1));\n",
    "    sorted2 = ''.join(sorted(str2));\n",
    "    firstWon = True; secondWon = True;\n",
    "    \n",
    "    for i in range(0, len(sorted1)):\n",
    "        if not (sorted1[i] >= sorted2[i]):\n",
    "            firstWon = False\n",
    "            break;\n",
    "    \n",
    "    if not firstWon:\n",
    "        for i in range(0, len(sorted1)):\n",
    "            if not(sorted2[i] >= sorted1[i]):\n",
    "                secondWon = False\n",
    "                break;\n",
    "    else: secondWon = False\n",
    "    \n",
    "    return (firstWon or secondWon)\n",
    "print(pobeda('aqbc', 'xeya'))\n",
    "print(pobeda('abve', 'acde'))"
   ]
  },
  {
   "cell_type": "markdown",
   "metadata": {},
   "source": [
    "### Задача на строки 2\n",
    "Дана строка s, вернуть самую длинную полиндромную подстроку в s."
   ]
  },
  {
   "cell_type": "code",
   "execution_count": 6,
   "metadata": {},
   "outputs": [
    {
     "name": "stdout",
     "output_type": "stream",
     "text": [
      "ababa\n"
     ]
    }
   ],
   "source": [
    "def longest_palindrome(text):\n",
    "    longest = \"\"\n",
    "    for i in range(len(text)):\n",
    "        for j in range(0, i):\n",
    "            chunk = text[j:i + 1]\n",
    "            if chunk == chunk[::-1]:\n",
    "                if len(chunk) >= len(longest):\n",
    "                    longest = chunk\n",
    "    return longest\n",
    "\n",
    "print(longest_palindrome(\"bababaddd\"))"
   ]
  },
  {
   "cell_type": "markdown",
   "metadata": {},
   "source": [
    "### Задача на строку 3\n",
    "Вернуть количество отдельных непустых подстрок текста, которые могут быть записаны как конкатенация некоторой строки с самой собой (т.е. она может быть записана, как a + a, где a - некоторая строка)."
   ]
  },
  {
   "cell_type": "code",
   "execution_count": 3,
   "metadata": {},
   "outputs": [
    {
     "name": "stdout",
     "output_type": "stream",
     "text": [
      "3\n"
     ]
    }
   ],
   "source": [
    "def empty(text):\n",
    "    length = len(text)\n",
    "    result = []\n",
    "    for i in range(0, length):\n",
    "        for j in range(i + 1, length + 1):\n",
    "            temp = text[i:j]\n",
    "            for i in range(0, len(temp)):\n",
    "                flag = False\n",
    "                if temp[0:i] == temp[i:len(temp)]:\n",
    "                    result.append(temp)\n",
    "                    flag = True\n",
    "                if flag == True: break;              \n",
    "    return len(set(result))\n",
    "print(empty('abcabcabc'))"
   ]
  },
  {
   "cell_type": "markdown",
   "metadata": {},
   "source": [
    "### Задача 4 «Треугольник с максимальным периметром»¶\n",
    "Массив A состоит из целых положительных чисел длин отрезков. Составьте из трех отрезков такой треугольник, чтобы его периметр был максимально возможным. Если невозможно составить треугольник с положительной площадью функция возвращает 0."
   ]
  },
  {
   "cell_type": "code",
   "execution_count": 8,
   "metadata": {},
   "outputs": [
    {
     "name": "stdout",
     "output_type": "stream",
     "text": [
      "5\n",
      "0\n",
      "10\n",
      "8\n"
     ]
    }
   ],
   "source": [
    "def maxPer(l):\n",
    "    ans = 0\n",
    "    for a in range(len(l)-2):\n",
    "        for b in range(a+1, len(l)-1):\n",
    "            for c in range(b+1, len(l)):\n",
    "                p = (l[a] + l[b] + l[c]) / 2\n",
    "                S2 = p * (p - l[a]) * (p - l[b]) * (p - l[c])\n",
    "                if S2 <= 0:\n",
    "                    continue\n",
    "                per = l[a] + l[b] + l[c]\n",
    "                if per > ans:\n",
    "                    ans = per\n",
    "    return ans\n",
    "\n",
    "\n",
    "print(maxPer([2,1,2]))\n",
    "print(maxPer([1,2,1]))\n",
    "print(maxPer([3,2,3,4]))\n",
    "print(maxPer([3,6,2,3]))"
   ]
  },
  {
   "cell_type": "markdown",
   "metadata": {},
   "source": [
    "### Задача 5 «Сортировка диагоналей в матрице»\n",
    "Дана матрица mat размером m * n, значения ­ целочисленные. Напишите функцию, сор­ тирующую каждую диагональ матрицы по возрастанию и возвращающую получившуюся матрицу."
   ]
  },
  {
   "cell_type": "code",
   "execution_count": 13,
   "metadata": {},
   "outputs": [
    {
     "name": "stdout",
     "output_type": "stream",
     "text": [
      "Исходная матрица: \n",
      "[3, 3, 1, 1]\n",
      "[2, 2, 1, 2]\n",
      "[1, 1, 1, 2]\n",
      "Отсортированная матрица: \n",
      "[1, 1, 1, 1]\n",
      "[1, 2, 2, 2]\n",
      "[1, 2, 3, 3]\n"
     ]
    }
   ],
   "source": [
    "mat = [[3, 3, 1, 1], [2, 2, 1, 2], [1, 1, 1, 2]]\n",
    "print(\"Исходная матрица: \")\n",
    "for row in mat:\n",
    "    print(row)\n",
    "\n",
    "m = len(mat[0])\n",
    "n = len(mat)\n",
    "\n",
    "while True:\n",
    "    c = 0\n",
    "    for i in range(n):\n",
    "        for j in range(m):\n",
    "            try:\n",
    "                if mat[i][j] > mat[i + 1][j + 1]:\n",
    "                    c = 1\n",
    "                    mat[i][j], mat[i + 1][j + 1] = mat[i + 1][j + 1], mat[i][j]\n",
    "            except:\n",
    "                continue\n",
    "    # Если изменений не было, выходим из цикла\n",
    "    if c == 0:\n",
    "        break\n",
    "\n",
    "print(\"Отсортированная матрица: \")\n",
    "for row in mat:\n",
    "    print(row)"
   ]
  },
  {
   "cell_type": "markdown",
   "metadata": {},
   "source": [
    "### Задача 6 «Объединение отрезков»\n",
    "Дан массив отрезков intervals, в котором intervals[i] = [starti, endi], некоторые отрезки могут пересекаться. Напишите функцию, которая объединяет все пересекающиеся отрезки в один и возвращает новый массив непересекающихся отрезков."
   ]
  },
  {
   "cell_type": "code",
   "execution_count": 17,
   "metadata": {},
   "outputs": [
    {
     "data": {
      "text/plain": [
       "[[1, 5]]"
      ]
     },
     "execution_count": 17,
     "metadata": {},
     "output_type": "execute_result"
    }
   ],
   "source": [
    "def comb_otr(interv):\n",
    "    interv.sort()\n",
    "    i=0\n",
    "    while i<len(interv)-1:\n",
    "        if interv[i][1]>=interv[i+1][0]:\n",
    "            a=interv.pop(0)\n",
    "            b=interv.pop(0)\n",
    "            interv.insert(0,[a[0],b[1]])\n",
    "        else:\n",
    "            i+=1\n",
    "    return  interv\n",
    "comb_otr([[1,4],[4,5]])"
   ]
  },
  {
   "cell_type": "markdown",
   "metadata": {},
   "source": [
    "### Задача 7 «Стопки монет»\n",
    "На столе стоят 3n стопок монет. Вы и ваши друзья Алиса и Боб забираете стопки монет по следующему алгоритму:\n",
    "\n",
    "1Вы выбираете 3 стопки монет из оставшихся на столе.\n",
    "2Алиса забирает себе стопку с максимальным количеством монет.\n",
    "3Вы забираете одну из двух оставшихся стопок.\n",
    "4Боб забирает последнюю стопку.\n",
    "5Если еще остались стопки, то действия повторяются с первого шага. Дан массив целых положительных чисел piles. Напишите функцию, возвращающую максимальное число монет, которое вы можете получить."
   ]
  },
  {
   "cell_type": "code",
   "execution_count": 14,
   "metadata": {},
   "outputs": [
    {
     "name": "stdout",
     "output_type": "stream",
     "text": [
      "[2,4,5,6,7,8] --> 12\n",
      "[2,4,5] --> 4\n",
      "[9,8,7,6,5,1,2,3,4] --> 18\n"
     ]
    }
   ],
   "source": [
    "def max_coint(arr):\n",
    "    arr.sort()\n",
    "    res=0\n",
    "    n=len(arr)//3\n",
    "    for i in range (n, len(arr), 2):\n",
    "        res+=arr[i]\n",
    "    return res\n",
    "\n",
    "print(\"[2,4,5,6,7,8] -->\", max_coint([2,4,5,6,7,8]))\n",
    "print(\"[2,4,5] -->\", max_coint([2,4,5]))\n",
    "print(\"[9,8,7,6,5,1,2,3,4] -->\", max_coint([9,8,7,6,5,1,2,3,4]))"
   ]
  },
  {
   "cell_type": "markdown",
   "metadata": {},
   "source": [
    "### Задача 8 «Шарики и стрелы»\n",
    "Некоторые сферические шарики распределены по двухмерному пространству. Для каждого шарика даны xкоординаты начала и конца его горизонтального диаметра. Так как пространство двумерно, то yкоординаты не имеют значения в данной задаче. Координата xstart всегда меньше xend. Стрелу можно выстрелить строго вертикально (вдоль yоси) из разных точек xоси. Шарик с координатами xstart и xend уничтожается стрелой, если она была выпущена из такой позиции x, что xstart ⩽ x ⩽ xend. Когда стрела выпущена, она летит в пространстве бесконечное время (уничтожая все шарики на пути). Дан массив points, где points[i] = [xstart, xend]. Напишите функцию, возвращающую минимальное количество стрел, которые нужно выпустить, чтобы уничтожить все шарики."
   ]
  },
  {
   "cell_type": "code",
   "execution_count": 7,
   "metadata": {},
   "outputs": [
    {
     "name": "stdout",
     "output_type": "stream",
     "text": [
      "2\n"
     ]
    }
   ],
   "source": [
    "def findMinArrowShots(points):\n",
    "        if len(points) == 0:\n",
    "            return 0\n",
    "        points.sort(key = lambda a:a[1])\n",
    "        arrows = 1\n",
    "        curr = points[0]\n",
    "        for balloon in points:\n",
    "            if curr[1] < balloon[0]:\n",
    "                curr = balloon\n",
    "                arrows += 1\n",
    "        return arrows\n",
    "    \n",
    "print(findMinArrowShots([[10,16], [2,8], [1,6], [7,12]]))"
   ]
  },
  {
   "cell_type": "markdown",
   "metadata": {},
   "source": [
    "### Задача 9 \"Максимальное число\"\n",
    "Дан массив неотрицательных целых чисел nums. Расположите их в таком порядке, чтобы вместе они образовали максимально возможное число"
   ]
  },
  {
   "cell_type": "code",
   "execution_count": 15,
   "metadata": {},
   "outputs": [
    {
     "name": "stdout",
     "output_type": "stream",
     "text": [
      "9534330\n"
     ]
    }
   ],
   "source": [
    "nums = [3, 30, 34, 5, 9]\n",
    "max_len = len(str(max(nums)))\n",
    "nums = [str(i) for i in nums]\n",
    "def change_elem(s):\n",
    "    return s + s[-1] * (max_len - len(s))\n",
    "sort_list = sorted(nums, key=change_elem, reverse=True)\n",
    "\n",
    "print(''.join(sort_list))"
   ]
  },
  {
   "cell_type": "markdown",
   "metadata": {},
   "source": [
    "### Вывод:\n",
    "В ходе курсовой работы я научился решать 9 различных задач в языке программирования Python 3, направленных на освоение различных тем и компетенций в данном языке программирования."
   ]
  },
  {
   "cell_type": "code",
   "execution_count": null,
   "metadata": {},
   "outputs": [],
   "source": []
  }
 ],
 "metadata": {
  "kernelspec": {
   "display_name": "Python 3",
   "language": "python",
   "name": "python3"
  },
  "language_info": {
   "codemirror_mode": {
    "name": "ipython",
    "version": 3
   },
   "file_extension": ".py",
   "mimetype": "text/x-python",
   "name": "python",
   "nbconvert_exporter": "python",
   "pygments_lexer": "ipython3",
   "version": "3.8.5"
  }
 },
 "nbformat": 4,
 "nbformat_minor": 4
}
