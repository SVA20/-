{
 "cells": [
  {
   "cell_type": "markdown",
   "metadata": {},
   "source": [
    "### Курсовая работа по дисциплине \"СиАОД\""
   ]
  },
  {
   "cell_type": "markdown",
   "metadata": {},
   "source": [
    "### Выполнил студент группы БСТ1902 Сухарев Владимир"
   ]
  },
  {
   "cell_type": "markdown",
   "metadata": {},
   "source": [
    "### Задача №1(Строки)"
   ]
  },
  {
   "cell_type": "markdown",
   "metadata": {},
   "source": [
    "Даны две строки: s1 и s2 с одинаковым размером, проверьте, может ли некоторая перестановка строки s1 “победить” некоторую перестановку строки s2 или наоборот. Строка x может “победить” строку y (обе имеют размер n), если x(i)>=y(i)"
   ]
  },
  {
   "cell_type": "code",
   "execution_count": 5,
   "metadata": {},
   "outputs": [
    {
     "name": "stdout",
     "output_type": "stream",
     "text": [
      "True\n",
      "False\n"
     ]
    }
   ],
   "source": [
    "def Won(s1, s2):\n",
    "    sort1 = ''.join(sorted(s1));#Идет сортировка с1 и с2(обычная сортировка)\n",
    "    sort2 = ''.join(sorted(s2));\n",
    "    \n",
    "    firstWon = True; #Задаем переменные\n",
    "    \n",
    "    secondWon = True;\n",
    "    \n",
    "    for i in range(0, len(sort1)): # Цикл который проходит по строке\n",
    "        if not (sort1[i] >= sort2[i]):#Если первое слово больше по знач чем второе\n",
    "            firstWon = False\n",
    "            break;\n",
    "    \n",
    "    if not firstWon:\n",
    "        for i in range(0, len(sort1)):\n",
    "            if not(sort2[i] >= sort1[i]):\n",
    "                secondWon = False\n",
    "                break;\n",
    "    else: secondWon = False #Если ничего не совпадает \n",
    "    \n",
    "    return (firstWon or secondWon)\n",
    "print(Won('abc', 'xya'))\n",
    "print(Won('abe', 'acd'))"
   ]
  },
  {
   "cell_type": "markdown",
   "metadata": {},
   "source": [
    "   # Задача №2(Строки)"
   ]
  },
  {
   "cell_type": "markdown",
   "metadata": {},
   "source": [
    "Дана строка s ,вернуть самую длинную палиндромную подстроку s"
   ]
  },
  {
   "cell_type": "code",
   "execution_count": 6,
   "metadata": {},
   "outputs": [
    {
     "name": "stdout",
     "output_type": "stream",
     "text": [
      "lkakl\n"
     ]
    }
   ],
   "source": [
    "def palindrome(text):\n",
    "    longest = \"\"\n",
    "    for i in range(len(text)): # в цикле проходим по длине текста\n",
    "        for j in range(0, i):\n",
    "            chunk = text[j:i + 1] #Выделяем первый символ и следующий\n",
    "            if chunk == chunk[::-1]: #Смотрим перевернутое\n",
    "                if len(chunk) >= len(longest):\n",
    "                    longest = chunk\n",
    "    return longest\n",
    "\n",
    "print(palindrome(\"fhiaklkakl\"))\n",
    "      "
   ]
  },
  {
   "cell_type": "markdown",
   "metadata": {},
   "source": [
    "# Задача 3(Строки)"
   ]
  },
  {
   "cell_type": "markdown",
   "metadata": {},
   "source": [
    "Вернуть количество отдельных непустых подстрок текста, которые могут быть записаны как конкатенация(склейка) некоторой строки с самой собой (т.е. она может быть записана, как a + a, где a - некоторая строка)."
   ]
  },
  {
   "cell_type": "code",
   "execution_count": 20,
   "metadata": {},
   "outputs": [
    {
     "name": "stdout",
     "output_type": "stream",
     "text": [
      "3\n"
     ]
    }
   ],
   "source": [
    "def Str(text):\n",
    "    length = len(text)\n",
    "    result = []\n",
    "    for i in range(0, length):\n",
    "        for j in range(i + 1, length + 1):\n",
    "            temp = text[i:j]# Символ первый и следующий\n",
    "            for i in range(0, len(temp)):\n",
    "                flag = False # метка которая запоминает найденное символы\n",
    "                if temp[0:i] == temp[i:len(temp)]:\n",
    "                    result.append(temp)#Счетчик\n",
    "                    flag = True\n",
    "                if flag == True: break;              \n",
    "    return len(set(result))\n",
    "print(Str('rtyrtyrty'))"
   ]
  },
  {
   "cell_type": "markdown",
   "metadata": {},
   "source": [
    "# Задача №4 (Шарики и стрелы)"
   ]
  },
  {
   "cell_type": "markdown",
   "metadata": {},
   "source": [
    "Некоторые сферические шарики распределены по двухмерному пространству. Для каждого шарика даны x-координаты начала и конца его горизонтального диаметра. Так как пространство двумерно, то y-координаты не имеют значения в данной задаче. Координата Xstart всегда меньше Xend. Стрелу можно выстрелить строго вертикально (вдоль y-оси) из разных точек x-оси. Шарик с координатами Xstart и Xend уничтожается стрелой, если она была выпущена из такой позиции x, что Xstart <=x<= Xend. Когда стрела выпущена, она летит в пространстве бесконечное время (уничтожая все шарики на пути). Дан массив points, где points[i] = [Xstart, Xend]. Напишите функцию, возвращающую минимальное количество стрел, которые нужно выпустить, чтобы уничтожить все шарики."
   ]
  },
  {
   "cell_type": "code",
   "execution_count": 8,
   "metadata": {},
   "outputs": [
    {
     "name": "stdout",
     "output_type": "stream",
     "text": [
      "2\n"
     ]
    }
   ],
   "source": [
    "# Сортируем список шаров по xStart\n",
    "# Если шаров нет, то количество стрел = 0\n",
    "# Берем первый шар из списка и его xEnd, \n",
    "# проверяем шары после этого шара, взяв их xStart, \n",
    "# если xEnd < XStart (след шара), \n",
    "# то появляется новый, обособленный от прошлого шар и добавляется количество стрел\n",
    "def findMinArrowShots(points):\n",
    "        if len(points) == 0:\n",
    "            return 0\n",
    "        points.sort(key = lambda a:a[1])\n",
    "        arrows = 1\n",
    "        curr = points[0]\n",
    "        for balloon in points:\n",
    "            if curr[1] < balloon[0]:\n",
    "                curr = balloon\n",
    "                arrows += 1\n",
    "        return arrows\n",
    "    \n",
    "print(findMinArrowShots([[10,16], [2,8], [1,6], [7,12]]))"
   ]
  },
  {
   "cell_type": "markdown",
   "metadata": {},
   "source": [
    "# Задача №5(Стопка монет)"
   ]
  },
  {
   "cell_type": "markdown",
   "metadata": {},
   "source": [
    "На столе стоят 3n стопок монет. Вы и ваши друзья Алиса и Боб забираете стопки монет по следующему алгоритму:\n",
    "Вы выбираете 3 стопки монет из оставшихся на столе.\n",
    "Алиса забирает себе стопку с максимальным количеством монет.\n",
    "Вы забираете одну из двух оставшихся стопок.\n",
    "Боб забирает последнюю стопку.\n",
    "Если еще остались стопки, то действия повторяются с первого шага. Дан массив целых положительных чисел piles. Напишите функцию, возвращающую максимальное число монет, которое вы можете получить."
   ]
  },
  {
   "cell_type": "code",
   "execution_count": 21,
   "metadata": {},
   "outputs": [
    {
     "name": "stdout",
     "output_type": "stream",
     "text": [
      "[9, 8, 7, 6, 5, 4, 3, 2, 1]\n",
      "18\n"
     ]
    }
   ],
   "source": [
    "# Стопки\n",
    "# Необходимо выбирать 3 кучи таким образом, что две кучи максимальные, одна минимальная, Алиса забирает максимальную, \n",
    "# мы забираем максимальную и последняя уходит бобу и так пока все кучи не кончатся.\n",
    "# piles = [9, 8, 7, 6, 5, 1, 2, 3, 4] - 18\n",
    "# piles = [2, 4, 5] - 4\n",
    "# piles = [2, 4, 1, 2, 7, 8] - 9\n",
    "def coins(piles):\n",
    "    n = len(piles)\n",
    "    sum_coins = 0\n",
    "    # Сортируем по возрастанию\n",
    "    piles.sort(reverse=True)\n",
    "    print(piles)\n",
    "    for i in range(0, n//3*2, 2):\n",
    "        # Выбираем три стопки\n",
    "        mas = piles[i:i+2]\n",
    "        mas.append(piles.pop())\n",
    "        mas.sort()\n",
    "        # Алиса\n",
    "        mas.pop()\n",
    "        # Мы\n",
    "        sum_coins += mas.pop()\n",
    "        # Боб\n",
    "        mas.pop()\n",
    "    return sum_coins\n",
    "    \n",
    "print(coins([9, 8, 7, 6, 5, 1, 2, 3, 4]))"
   ]
  },
  {
   "cell_type": "markdown",
   "metadata": {},
   "source": [
    "# Задача №6 (Объединение отрезков)"
   ]
  },
  {
   "cell_type": "markdown",
   "metadata": {},
   "source": [
    "Дан массив отрезков intervals, в котором intervals[i] = [starti, endi], некоторые отрезки могут пересекаться. Напишите функцию, которая объединяет все пересекающиеся отрезки в один и возвращает новый массив непересекающихся отрезков."
   ]
  },
  {
   "cell_type": "code",
   "execution_count": 15,
   "metadata": {},
   "outputs": [
    {
     "name": "stdout",
     "output_type": "stream",
     "text": [
      "[[1, 6], [8, 10], [15, 18]]\n"
     ]
    }
   ],
   "source": [
    "# Здесь принцип похожий на задачу про шары, \n",
    "# если встречается конец отрезка, \n",
    "# который по значению меньше, чем начало следующего отрезка, \n",
    "# то появляется новый, обособелнный от других отрезок и добавляем его в результат\n",
    "# Иначе берем конец следующего отрезка и меняем текущий конец\n",
    "def intervals(intervals):\n",
    "    result = []\n",
    "    intervals.sort()\n",
    "    for interval in intervals:\n",
    "        if result == [] or result[-1][1] < interval[0]:\n",
    "            result.append(interval)\n",
    "        else:\n",
    "            result[-1][1] = max(result[-1][1], interval[1])\n",
    "    return result\n",
    "\n",
    "print(intervals([[1,3],[2,6],[8,10],[15,18]]))"
   ]
  },
  {
   "cell_type": "markdown",
   "metadata": {},
   "source": [
    "# Задача №7 (Треугольник с максимальным периметром)"
   ]
  },
  {
   "cell_type": "markdown",
   "metadata": {},
   "source": [
    "Массив A состоит из целых положительных чисел длин отрезков. Составьте из трех отрезков такой треугольник, чтобы его периметр был максимально возможным. Если невозможно составить треугольник с положительной площадью функция возвращает 0."
   ]
  },
  {
   "cell_type": "code",
   "execution_count": 11,
   "metadata": {},
   "outputs": [
    {
     "name": "stdout",
     "output_type": "stream",
     "text": [
      "Периметр треугольника:  10\n"
     ]
    }
   ],
   "source": [
    "a = [3,2,3,4]\n",
    "a.sort(reverse=True)# отсортировали от наибольшего к меньшему\n",
    "j = 0\n",
    "while True:\n",
    "    a_1 = a[j]\n",
    "    a_2 = a[j + 1]\n",
    "    try:\n",
    "        if a_1 + a_2 > a[j + 2] and a_2 + a[j + 2] > a_1 and a_1 + a[j + 2] > a_2: #Находим наибольший возможный треугольник\n",
    "            a_3 = a[j + 2]\n",
    "            print(\"Периметр треугольника: \", a_1 + a_2 + a_3)\n",
    "            break\n",
    "    except IndexError:\n",
    "        print(\"Невозможно найти периметр\")\n",
    "        break\n",
    "    j+=1"
   ]
  },
  {
   "cell_type": "markdown",
   "metadata": {},
   "source": [
    "# Задача №8 (Максимальное число)"
   ]
  },
  {
   "cell_type": "markdown",
   "metadata": {},
   "source": [
    "Дан массив неотрицательных целых чисел nums. Расположите их в таком порядке, чтобы вместе они образовали максимально возможное число. Замечание: Результат может быть очень большим числом, поэтому представьте его как string, а не integer."
   ]
  },
  {
   "cell_type": "code",
   "execution_count": null,
   "metadata": {},
   "outputs": [],
   "source": [
    "# Исходный массив\n",
    "nums = [3, 30, 34, 5, 9]\n",
    "# Вычисляем длину максимального элемента\n",
    "max_len = len(str(max(nums)))\n",
    "# Переводим все элементы массива в строковый тип\n",
    "nums = [str(i) for i in nums]\n",
    "# Функция повторяет последнюю цифру, пока число не станет по длине как самое длинное из списка\n",
    "def change_elem(s):\n",
    "    return s + s[-1] * (max_len - len(s))\n",
    "# Отсортированный массив\n",
    "sort_list = sorted(nums, key=change_elem, reverse=True)\n",
    "# Вывод результата\n",
    "print(''.join(sort_list))"
   ]
  },
  {
   "cell_type": "markdown",
   "metadata": {},
   "source": [
    "# Задача №9 (Сортировка диагоналей в матрице)\n",
    "#### Дана матрица mat размером m * n, значения ­ целочисленные. Напишите функцию, сор­ тирующую каждую диагональ матрицы по возрастанию и возвращающую получившуюся матрицу."
   ]
  },
  {
   "cell_type": "code",
   "execution_count": null,
   "metadata": {},
   "outputs": [],
   "source": [
    "def Sort(matrix):\n",
    "    matrix = [[3, 3, 1, 1], [2, 2, 1, 2], [1, 1, 1, 2]]\n",
    "    print(\"Исходная матрица: \")\n",
    "    for row in matrix:\n",
    "        print(row)\n",
    "    m = len(matrix[0])\n",
    "    n = len(matrix)\n",
    "    while True:\n",
    "        a = 0\n",
    "        for i in range(n):\n",
    "            for j in range(m):\n",
    "                try:\n",
    "                    if matrix[i][j] > matrix[i + 1][j + 1]:\n",
    "                        a = 1\n",
    "                        matrix[i][j], matrix[i + 1][j + 1] = matrix[i + 1][j + 1], matrix[i][j]\n",
    "                except:\n",
    "                    continue\n",
    "        if a == 0:\n",
    "            break\n",
    "    print(\"Отсортированная матрица: \")\n",
    "    for row in matrix:\n",
    "        print(row)\n",
    "print(Sort([[3, 3, 1, 1], [2, 2, 1, 2], [1, 1, 1, 2]]))"
   ]
  },
  {
   "cell_type": "code",
   "execution_count": null,
   "metadata": {},
   "outputs": [],
   "source": []
  }
 ],
 "metadata": {
  "kernelspec": {
   "display_name": "Python 3",
   "language": "python",
   "name": "python3"
  },
  "language_info": {
   "codemirror_mode": {
    "name": "ipython",
    "version": 3
   },
   "file_extension": ".py",
   "mimetype": "text/x-python",
   "name": "python",
   "nbconvert_exporter": "python",
   "pygments_lexer": "ipython3",
   "version": "3.8.5"
  }
 },
 "nbformat": 4,
 "nbformat_minor": 4
}
